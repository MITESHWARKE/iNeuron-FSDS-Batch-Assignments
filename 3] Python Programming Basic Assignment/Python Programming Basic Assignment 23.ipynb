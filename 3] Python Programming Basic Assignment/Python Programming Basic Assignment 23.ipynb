{
 "cells": [
  {
   "cell_type": "markdown",
   "id": "fde597ec",
   "metadata": {},
   "source": [
    "# Python Programming Basic Assignment\n",
    "## Assignment - 23 [ FSDS NOV 21 ]"
   ]
  },
  {
   "cell_type": "markdown",
   "id": "3b8368dc",
   "metadata": {},
   "source": [
    "### 1.Create a function that takes a number as an argument and returns True or False depending on whether the number is symmetrical or not. A number is symmetrical when it is the same as its reverse.\n",
    "**Examples:**    \n",
    "`is_symmetrical(7227) ➞ True`  \n",
    "`is_symmetrical(12567) ➞ False`  \n",
    "`is_symmetrical(44444444) ➞ True`  \n",
    "`is_symmetrical(9939) ➞ False`  \n",
    "`is_symmetrical(1112111) ➞ True`  "
   ]
  },
  {
   "cell_type": "code",
   "execution_count": 1,
   "id": "c26dbf7e",
   "metadata": {},
   "outputs": [
    {
     "name": "stdout",
     "output_type": "stream",
     "text": [
      "7227 ➞ True\n",
      "12567 ➞ False\n",
      "44444444 ➞ True\n",
      "9939 ➞ False\n",
      "1112111 ➞ True\n"
     ]
    }
   ],
   "source": [
    "def is_symmetrical(in_num):\n",
    "    if str(in_num) == str(in_num)[::-1]:\n",
    "        print(f'{in_num} ➞ {True}')\n",
    "    else:\n",
    "        print(f'{in_num} ➞ {False}')\n",
    "\n",
    "is_symmetrical(7227)\n",
    "is_symmetrical(12567)\n",
    "is_symmetrical(44444444)\n",
    "is_symmetrical(9939)\n",
    "is_symmetrical(1112111)"
   ]
  },
  {
   "cell_type": "markdown",
   "id": "45b97989",
   "metadata": {},
   "source": [
    "### 2.Given a string of numbers separated by a comma and space, return the product of the numbers.\n",
    "**Examples:**  \n",
    "`multiply_nums(\"2, 3\") ➞ 6`  \n",
    "`multiply_nums(\"1, 2, 3, 4\") ➞ 24`  \n",
    "`multiply_nums(\"54, 75, 453, 0\") ➞ 0`  \n",
    "`multiply_nums(\"10, -2\") ➞ -20`  "
   ]
  },
  {
   "cell_type": "code",
   "execution_count": 1,
   "id": "60133913",
   "metadata": {},
   "outputs": [],
   "source": [
    "def multiply_nums(s):\n",
    "    product = 1\n",
    "    for i in s.split(','):\n",
    "        product = product * int(i)\n",
    "    return product"
   ]
  },
  {
   "cell_type": "code",
   "execution_count": 2,
   "id": "3a6f8094",
   "metadata": {},
   "outputs": [
    {
     "name": "stdout",
     "output_type": "stream",
     "text": [
      "6\n",
      "24\n",
      "0\n",
      "-20\n"
     ]
    }
   ],
   "source": [
    "print(multiply_nums('2, 3'))\n",
    "print(multiply_nums('1, 2, 3, 4'))\n",
    "print(multiply_nums('54, 75, 453, 0'))\n",
    "print(multiply_nums('10, -2'))"
   ]
  },
  {
   "cell_type": "markdown",
   "id": "42e17e6f",
   "metadata": {},
   "source": [
    "### 3.Create a function that squares every digit of a number.\n",
    "**Examples:**  \n",
    "`square_digits(9119) ➞ 811181`  \n",
    "`square_digits(2483) ➞ 416649`  \n",
    "`square_digits(3212) ➞ 9414`  \n",
    "\n",
    "**Notes:**   \n",
    "The function receives an integer and must return an integer."
   ]
  },
  {
   "cell_type": "code",
   "execution_count": 4,
   "id": "fb0d6d2b",
   "metadata": {},
   "outputs": [],
   "source": [
    "def square_digits(num):\n",
    "    res = \"\"\n",
    "    for c in str(num):\n",
    "        res += str(int(c)**2)\n",
    "    return int(res)"
   ]
  },
  {
   "cell_type": "code",
   "execution_count": 5,
   "id": "a3ab5a5c",
   "metadata": {},
   "outputs": [
    {
     "name": "stdout",
     "output_type": "stream",
     "text": [
      "811181\n",
      "416649\n",
      "9414\n"
     ]
    }
   ],
   "source": [
    "print(square_digits(9119))\n",
    "print(square_digits(2483))\n",
    "print(square_digits(3212))"
   ]
  },
  {
   "cell_type": "markdown",
   "id": "5edc0e1b",
   "metadata": {},
   "source": [
    "### 4.Create a function that sorts a list and removes all duplicate items from it.\n",
    "**Examples:**  \n",
    "`setify([1, 3, 3, 5, 5]) ➞ [1, 3, 5]`  \n",
    "`setify([4, 4, 4, 4]) ➞ [4]`  \n",
    "`setify([5, 7, 8, 9, 10, 15]) ➞ [5, 7, 8, 9, 10, 15]`  \n",
    "`setify([3, 3, 3, 2, 1]) ➞ [1, 2, 3]`  "
   ]
  },
  {
   "cell_type": "code",
   "execution_count": 6,
   "id": "8ca50bbd",
   "metadata": {},
   "outputs": [],
   "source": [
    "def setify(l):\n",
    "    m = []\n",
    "    l.sort()\n",
    "    l = set(l)\n",
    "    for i in l:\n",
    "        m.append(i)\n",
    "    return m"
   ]
  },
  {
   "cell_type": "code",
   "execution_count": 7,
   "id": "cfcb3003",
   "metadata": {},
   "outputs": [
    {
     "data": {
      "text/plain": [
       "[1, 3, 5]"
      ]
     },
     "execution_count": 7,
     "metadata": {},
     "output_type": "execute_result"
    }
   ],
   "source": [
    "setify([1, 3, 3, 5, 5])"
   ]
  },
  {
   "cell_type": "code",
   "execution_count": 8,
   "id": "34d207e4",
   "metadata": {},
   "outputs": [
    {
     "data": {
      "text/plain": [
       "[4]"
      ]
     },
     "execution_count": 8,
     "metadata": {},
     "output_type": "execute_result"
    }
   ],
   "source": [
    "setify([4, 4, 4, 4])"
   ]
  },
  {
   "cell_type": "code",
   "execution_count": 9,
   "id": "6a7191f7",
   "metadata": {},
   "outputs": [
    {
     "data": {
      "text/plain": [
       "[5, 7, 8, 9, 10, 15]"
      ]
     },
     "execution_count": 9,
     "metadata": {},
     "output_type": "execute_result"
    }
   ],
   "source": [
    "setify([5, 7, 8, 9, 10, 15])"
   ]
  },
  {
   "cell_type": "code",
   "execution_count": 10,
   "id": "b7c5e95d",
   "metadata": {},
   "outputs": [
    {
     "data": {
      "text/plain": [
       "[1, 2, 3]"
      ]
     },
     "execution_count": 10,
     "metadata": {},
     "output_type": "execute_result"
    }
   ],
   "source": [
    "setify([3, 3, 3, 2, 1])"
   ]
  },
  {
   "cell_type": "markdown",
   "id": "02d28ede",
   "metadata": {},
   "source": [
    "### 5.Create a function that returns the mean of all digits.\n",
    "**Examples:**  \n",
    "`mean(42) ➞ 3`  \n",
    "`mean(12345) ➞ 3`  \n",
    "`mean(666) ➞ 6`  \n",
    "\n",
    "**Notes:**   \n",
    "    1.The mean of all digits is the sum of digits / how many digits there are (e.g. mean of digits in 512 is (5+1+2)/3(number of digits) = 8/3=2).  \n",
    "    2.The mean will always be an integer."
   ]
  },
  {
   "cell_type": "code",
   "execution_count": 12,
   "id": "30baa94c",
   "metadata": {},
   "outputs": [],
   "source": [
    "def mean(n): \n",
    "    N = len(str(n)) \n",
    "    sum = mean = 0\n",
    "    \n",
    "    for digit in str(n):\n",
    "        sum += int(digit)       \n",
    "    return int(sum/N)\n",
    "    "
   ]
  },
  {
   "cell_type": "code",
   "execution_count": 13,
   "id": "bdc7dfc2",
   "metadata": {},
   "outputs": [
    {
     "data": {
      "text/plain": [
       "3"
      ]
     },
     "execution_count": 13,
     "metadata": {},
     "output_type": "execute_result"
    }
   ],
   "source": [
    "mean(42)"
   ]
  },
  {
   "cell_type": "code",
   "execution_count": 14,
   "id": "94fca0f2",
   "metadata": {},
   "outputs": [
    {
     "data": {
      "text/plain": [
       "3"
      ]
     },
     "execution_count": 14,
     "metadata": {},
     "output_type": "execute_result"
    }
   ],
   "source": [
    "mean(12345)"
   ]
  },
  {
   "cell_type": "code",
   "execution_count": 15,
   "id": "f2e26cc4",
   "metadata": {},
   "outputs": [
    {
     "data": {
      "text/plain": [
       "6"
      ]
     },
     "execution_count": 15,
     "metadata": {},
     "output_type": "execute_result"
    }
   ],
   "source": [
    "mean(666)"
   ]
  }
 ],
 "metadata": {
  "kernelspec": {
   "display_name": "Python 3 (ipykernel)",
   "language": "python",
   "name": "python3"
  },
  "language_info": {
   "codemirror_mode": {
    "name": "ipython",
    "version": 3
   },
   "file_extension": ".py",
   "mimetype": "text/x-python",
   "name": "python",
   "nbconvert_exporter": "python",
   "pygments_lexer": "ipython3",
   "version": "3.9.7"
  }
 },
 "nbformat": 4,
 "nbformat_minor": 5
}
