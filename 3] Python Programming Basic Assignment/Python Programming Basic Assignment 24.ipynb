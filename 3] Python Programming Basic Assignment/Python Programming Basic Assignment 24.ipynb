{
 "cells": [
  {
   "cell_type": "markdown",
   "id": "43f080a6",
   "metadata": {},
   "source": [
    "# Python Programming Basic Assignment\n",
    "## Assignment - 24 [ FSDS NOV 21 ]"
   ]
  },
  {
   "cell_type": "markdown",
   "id": "f970203d",
   "metadata": {},
   "source": [
    "### 1.Create a function that takes an integer and returns a list from 1 to the given number, where:\n",
    "1.If the number can be divided evenly by 4, amplify it by 10 (i.e. return 10 times the number).  \n",
    "2.If the number cannot be divided evenly by 4, simply return the number. \n",
    "\n",
    "**Examples:**  \n",
    "`amplify(4) ➞ [1, 2, 3, 40]`  \n",
    "`amplify(3) ➞ [1, 2, 3]`  \n",
    "`amplify(25) ➞ [1, 2, 3, 40, 5, 6, 7, 80, 9, 10, 11, 120, 13, 14, 15, 160, 17, 18, 19, 200, 21, 22, 23, 240, 25]`\n",
    "\n",
    "**Notes:**  \n",
    "    1.The given integer will always be equal to or greater than 1.  \n",
    "    2.Include the number (see example above).  \n",
    "    3.To perform this problem with its intended purpose, try doing it with list"
   ]
  },
  {
   "cell_type": "code",
   "execution_count": 1,
   "id": "d4e3a4a6",
   "metadata": {},
   "outputs": [],
   "source": [
    "def amplify(n):\n",
    "    l=[]\n",
    "    for i in range(1, n+1):\n",
    "        if i%4 == 0:\n",
    "            l.append(i*10)\n",
    "        else:\n",
    "            l.append(i)\n",
    "    return l"
   ]
  },
  {
   "cell_type": "code",
   "execution_count": 2,
   "id": "4dee2f38",
   "metadata": {},
   "outputs": [
    {
     "data": {
      "text/plain": [
       "[1, 2, 3, 40]"
      ]
     },
     "execution_count": 2,
     "metadata": {},
     "output_type": "execute_result"
    }
   ],
   "source": [
    "amplify(4)"
   ]
  },
  {
   "cell_type": "code",
   "execution_count": 3,
   "id": "575eb72f",
   "metadata": {},
   "outputs": [
    {
     "data": {
      "text/plain": [
       "[1, 2, 3]"
      ]
     },
     "execution_count": 3,
     "metadata": {},
     "output_type": "execute_result"
    }
   ],
   "source": [
    "amplify(3)"
   ]
  },
  {
   "cell_type": "code",
   "execution_count": 6,
   "id": "57a91441",
   "metadata": {},
   "outputs": [
    {
     "name": "stdout",
     "output_type": "stream",
     "text": [
      "[1, 2, 3, 40, 5, 6, 7, 80, 9, 10, 11, 120, 13, 14, 15, 160, 17, 18, 19, 200, 21, 22, 23, 240, 25]\n"
     ]
    }
   ],
   "source": [
    "print(amplify(25))"
   ]
  },
  {
   "cell_type": "markdown",
   "id": "2b5fea6a",
   "metadata": {},
   "source": [
    "### 2.Create a function that takes a list of numbers and return the number that's unique.\n",
    "**Examples:**  \n",
    "`unique([3, 3, 3, 7, 3, 3]) ➞ 7`  \n",
    "`unique([0, 0, 0.77, 0, 0]) ➞ 0.77`  \n",
    "`unique([0, 1, 1, 1, 1, 1, 1, 1]) ➞ 0`  \n",
    "\n",
    "**Notes:**  \n",
    "Test cases will always have exactly one unique number while all others are the same."
   ]
  },
  {
   "cell_type": "code",
   "execution_count": 7,
   "id": "7982b99c",
   "metadata": {},
   "outputs": [],
   "source": [
    "def unique(lst: list):\n",
    "    res = []\n",
    "    for i in set(lst):\n",
    "        if lst.count(i) == 1:\n",
    "            res.append(i)\n",
    "    return res"
   ]
  },
  {
   "cell_type": "code",
   "execution_count": 8,
   "id": "4d71ee76",
   "metadata": {},
   "outputs": [
    {
     "name": "stdout",
     "output_type": "stream",
     "text": [
      "[7]\n",
      "[0.77]\n",
      "[0]\n"
     ]
    }
   ],
   "source": [
    "print(unique([3, 3, 3, 7, 3, 3]))\n",
    "print(unique([0, 0, 0.77, 0, 0]))\n",
    "print(unique([0, 1, 1, 1, 1, 1, 1, 1]))"
   ]
  },
  {
   "cell_type": "markdown",
   "id": "5e337587",
   "metadata": {},
   "source": [
    "### 3.Your task is to create a Circle constructor that creates a circle with a radius provided by an argument. The circles constructed must have two getters `getArea() (PIr^2)` and `getPerimeter() (2PI*r)` which give both respective areas and perimeter (circumference). For help with this class, I have provided you with a Rectangle constructor which you can use as a base example ?\n",
    "**Examples:**  \n",
    "`circy = Circle(11)`   \n",
    "`circy.getArea()`  \n",
    "    # Should return 380.132711084365\n",
    "`circy = Circle(4.44)`  \n",
    "`circy.getPerimeter()`  \n",
    "    # Should return 27.897342763877365\n",
    "\n",
    "**Notes:**  \n",
    "Round results up to the nearest integer."
   ]
  },
  {
   "cell_type": "code",
   "execution_count": 3,
   "id": "3f3b65b6",
   "metadata": {},
   "outputs": [
    {
     "name": "stdout",
     "output_type": "stream",
     "text": [
      "Radius ➞ 380\n",
      "Perimeter ➞ 28\n"
     ]
    }
   ],
   "source": [
    "import math\n",
    "\n",
    "class Circle:\n",
    "    def __init__(self, radius):\n",
    "        self.radius = radius\n",
    "    def getArea(self):\n",
    "        print(f'Radius ➞ {round(math.pi*self.radius*self.radius)}')\n",
    "    def getPerimeter(self):\n",
    "        print(f'Perimeter ➞ {round(2*math.pi*self.radius)}')\n",
    "    \n",
    "circy = Circle(11)\n",
    "circy.getArea()\n",
    "\n",
    "circy = Circle(4.44)\n",
    "circy.getPerimeter()"
   ]
  },
  {
   "cell_type": "markdown",
   "id": "11d0d86a",
   "metadata": {},
   "source": [
    "### 4.Create a function that takes a list of strings and return a list, sorted from shortest to longest.\n",
    "**Examples:**  \n",
    "`sort_by_length([\"Google\", \"Apple\", \"Microsoft\"])`  \n",
    "`➞ [\"Apple\", \"Google\", \"Microsoft\"]`  \n",
    "`sort_by_length([\"Leonardo\", \"Michelangelo\", \"Raphael\", \"Donatello\"])`  \n",
    "`➞ [\"Raphael\", \"Leonardo\", \"Donatello\", \"Michelangelo\"]`  \n",
    "`sort_by_length([\"Turing\", \"Einstein\", \"Jung\"])`  \n",
    "`➞ [\"Jung\", \"Turing\", \"Einstein\"]`  \n",
    "\n",
    "**Notes:**  \n",
    "All test cases contain lists with strings of different lengths, so you won't have to deal with\n",
    "multiple strings of the same length."
   ]
  },
  {
   "cell_type": "code",
   "execution_count": 9,
   "id": "dc0248c6",
   "metadata": {},
   "outputs": [],
   "source": [
    "from collections import OrderedDict\n",
    "def sort_by_length(lst):\n",
    "    \n",
    "    my_dict = {len(v):v for v in lst}\n",
    "    \n",
    "    return list(OrderedDict(sorted(my_dict.items())).values())"
   ]
  },
  {
   "cell_type": "code",
   "execution_count": 10,
   "id": "0d21d127",
   "metadata": {},
   "outputs": [
    {
     "name": "stdout",
     "output_type": "stream",
     "text": [
      "['Apple', 'Google', 'Microsoft']\n",
      "['Raphael', 'Leonardo', 'Donatello', 'Michelangelo']\n",
      "['Jung', 'Turing', 'Einstein']\n"
     ]
    }
   ],
   "source": [
    "print(sort_by_length(['Google', 'Apple', 'Microsoft']))\n",
    "print(sort_by_length(['Leonardo', 'Michelangelo', 'Raphael', 'Donatello']))\n",
    "print(sort_by_length(['Turing', 'Einstein', 'Jung']))"
   ]
  },
  {
   "cell_type": "markdown",
   "id": "583fd373",
   "metadata": {},
   "source": [
    "### 5.Create a function that validates whether three given integers form a Pythagorean triplet. The sum of the squares of the two smallest integers must equal the square of the largest number to be validated.\n",
    "**Examples:**  \n",
    "`is_triplet(3, 4, 5) ➞ True\n",
    "    # 3² + 4² = 25\n",
    "    # 5² = 25\n",
    "is_triplet(13, 5, 12) ➞ True\n",
    "    # 5² + 12² = 169\n",
    "    # 13² = 169\n",
    "is_triplet(1, 2, 3) ➞ False\n",
    "    # 1² + 2² = 5\n",
    "    # 3² = 9`\n",
    "    \n",
    "**Notes:**\n",
    "Numbers may not be given in a sorted order."
   ]
  },
  {
   "cell_type": "code",
   "execution_count": 11,
   "id": "90f691cf",
   "metadata": {},
   "outputs": [],
   "source": [
    "def is_triplet(*args):\n",
    "    l = []\n",
    "    l.extend((args))\n",
    "    l = sorted(l)\n",
    "    if l[0]**2 + l[1]**2 == l[2]**2:\n",
    "        return True\n",
    "    return False"
   ]
  },
  {
   "cell_type": "code",
   "execution_count": 12,
   "id": "f0aef634",
   "metadata": {},
   "outputs": [
    {
     "data": {
      "text/plain": [
       "True"
      ]
     },
     "execution_count": 12,
     "metadata": {},
     "output_type": "execute_result"
    }
   ],
   "source": [
    "is_triplet(13,5,12)"
   ]
  },
  {
   "cell_type": "code",
   "execution_count": 13,
   "id": "27a61a8f",
   "metadata": {},
   "outputs": [
    {
     "data": {
      "text/plain": [
       "True"
      ]
     },
     "execution_count": 13,
     "metadata": {},
     "output_type": "execute_result"
    }
   ],
   "source": [
    "is_triplet(3, 4, 5)"
   ]
  },
  {
   "cell_type": "code",
   "execution_count": 14,
   "id": "739b0f84",
   "metadata": {},
   "outputs": [
    {
     "data": {
      "text/plain": [
       "False"
      ]
     },
     "execution_count": 14,
     "metadata": {},
     "output_type": "execute_result"
    }
   ],
   "source": [
    "is_triplet(1, 2, 3)"
   ]
  }
 ],
 "metadata": {
  "kernelspec": {
   "display_name": "Python 3 (ipykernel)",
   "language": "python",
   "name": "python3"
  },
  "language_info": {
   "codemirror_mode": {
    "name": "ipython",
    "version": 3
   },
   "file_extension": ".py",
   "mimetype": "text/x-python",
   "name": "python",
   "nbconvert_exporter": "python",
   "pygments_lexer": "ipython3",
   "version": "3.9.7"
  }
 },
 "nbformat": 4,
 "nbformat_minor": 5
}
