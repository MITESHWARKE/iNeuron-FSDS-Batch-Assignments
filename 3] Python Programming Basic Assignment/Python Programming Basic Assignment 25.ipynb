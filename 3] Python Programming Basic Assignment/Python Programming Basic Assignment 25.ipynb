{
 "cells": [
  {
   "cell_type": "markdown",
   "id": "e2951151",
   "metadata": {},
   "source": [
    "# Python Programming Basic Assignment\n",
    "## Assignment - 25 [ FSDS NOV 21 ]"
   ]
  },
  {
   "cell_type": "markdown",
   "id": "84af1303",
   "metadata": {},
   "source": [
    "### 1.Create a function that takes three integer arguments (a, b, c) and returns the amount of integers which are of equal value.\n",
    "**Examples:**  \n",
    "`equal(3, 4, 3) ➞ 2`  \n",
    "`equal(1, 1, 1) ➞ 3`  \n",
    "`equal(3, 4, 1) ➞ 0`  \n",
    "\n",
    "**Notes:**  \n",
    "Your function must return 0, 2 or 3."
   ]
  },
  {
   "cell_type": "code",
   "execution_count": 1,
   "id": "e1853788",
   "metadata": {},
   "outputs": [
    {
     "name": "stdout",
     "output_type": "stream",
     "text": [
      "(3, 4, 3) ➞ 0\n",
      "(1, 1, 1) ➞ 3\n",
      "(3, 4, 1) ➞ 0\n"
     ]
    }
   ],
   "source": [
    "def equal(a,b,c):\n",
    "    if a==b==c:\n",
    "        print(f'{a,b,c} ➞ {3}')\n",
    "    elif a==b or b==c:\n",
    "        print(f'{a,b,c} ➞ {2}')\n",
    "    else:\n",
    "        print(f'{a,b,c} ➞ {0}')\n",
    "\n",
    "equal(3, 4, 3)\n",
    "equal(1, 1, 1)\n",
    "equal(3, 4, 1)"
   ]
  },
  {
   "cell_type": "markdown",
   "id": "3a880d02",
   "metadata": {},
   "source": [
    "### 2.Write a function that converts a dictionary into a list of keys-values tuples.\n",
    "**Examples:**  \n",
    "`dict_to_list({\n",
    "    \"D\": 1,\n",
    "    \"B\": 2,\n",
    "    \"C\": 3\n",
    "    }) ➞ [(\"B\", 2), (\"C\", 3), (\"D\", 1)]  \n",
    "dict_to_list({\n",
    "    \"likes\": 2,\n",
    "    \"dislikes\": 3,\n",
    "    \"followers\": 10\n",
    "    }) ➞ [(\"dislikes\", 3), (\"followers\", 10), (\"likes\", 2)]`\n",
    "\n",
    "**Notes:**  \n",
    "Return the elements in the list in alphabetical order."
   ]
  },
  {
   "cell_type": "code",
   "execution_count": 3,
   "id": "2470a4da",
   "metadata": {},
   "outputs": [],
   "source": [
    "def dict_to_list(d:dict):\n",
    "    return [(k, v) for k, v in sorted(d.items())]"
   ]
  },
  {
   "cell_type": "code",
   "execution_count": 4,
   "id": "bf23c4b1",
   "metadata": {},
   "outputs": [
    {
     "data": {
      "text/plain": [
       "[('B', 2), ('C', 3), ('D', 1)]"
      ]
     },
     "execution_count": 4,
     "metadata": {},
     "output_type": "execute_result"
    }
   ],
   "source": [
    "dict_to_list({\n",
    "    'D': 1,\n",
    "    'B': 2,\n",
    "    'C': 3\n",
    "    })"
   ]
  },
  {
   "cell_type": "code",
   "execution_count": 5,
   "id": "70069146",
   "metadata": {},
   "outputs": [
    {
     "data": {
      "text/plain": [
       "[('dislikes', 3), ('followers', 10), ('likes', 2)]"
      ]
     },
     "execution_count": 5,
     "metadata": {},
     "output_type": "execute_result"
    }
   ],
   "source": [
    "dict_to_list({\n",
    "  \"likes\": 2,\n",
    "  \"dislikes\": 3,\n",
    "  \"followers\": 10\n",
    "})"
   ]
  },
  {
   "cell_type": "markdown",
   "id": "440aa907",
   "metadata": {},
   "source": [
    "### 3.Write a function that creates a dictionary with each (key, value) pair being the (lower case, upper case) versions of a letter, respectively.\n",
    "**Examples:**  \n",
    "`mapping([\"p\", \"s\"]) ➞ { \"p\": \"P\", \"s\": \"S\" }`  \n",
    "`mapping([\"a\", \"b\", \"c\"]) ➞ { \"a\": \"A\", \"b\": \"B\", \"c\": \"C\" }`  \n",
    "`mapping([\"a\", \"v\", \"y\", \"z\"]) ➞ { \"a\": \"A\", \"v\": \"V\", \"y\": \"Y\", \"z\": \"Z\" }`  \n",
    "\n",
    "**Notes:**  \n",
    "All of the letters in the input list will always be lowercase."
   ]
  },
  {
   "cell_type": "code",
   "execution_count": 6,
   "id": "0150a479",
   "metadata": {},
   "outputs": [],
   "source": [
    "def mapping(l):\n",
    "    return {i.lower():i.upper() for i in l}"
   ]
  },
  {
   "cell_type": "code",
   "execution_count": 7,
   "id": "64165f16",
   "metadata": {},
   "outputs": [
    {
     "data": {
      "text/plain": [
       "{'p': 'P', 's': 'S'}"
      ]
     },
     "execution_count": 7,
     "metadata": {},
     "output_type": "execute_result"
    }
   ],
   "source": [
    "mapping([\"p\", \"s\"])"
   ]
  },
  {
   "cell_type": "code",
   "execution_count": 8,
   "id": "10355f8d",
   "metadata": {},
   "outputs": [
    {
     "data": {
      "text/plain": [
       "{'a': 'A', 'b': 'B', 'c': 'C'}"
      ]
     },
     "execution_count": 8,
     "metadata": {},
     "output_type": "execute_result"
    }
   ],
   "source": [
    "mapping([\"a\", \"b\", \"c\"])"
   ]
  },
  {
   "cell_type": "code",
   "execution_count": 9,
   "id": "9ee2e7fe",
   "metadata": {},
   "outputs": [
    {
     "data": {
      "text/plain": [
       "{'a': 'A', 'v': 'V', 'y': 'Y', 'z': 'Z'}"
      ]
     },
     "execution_count": 9,
     "metadata": {},
     "output_type": "execute_result"
    }
   ],
   "source": [
    "mapping([\"a\", \"v\", \"y\", \"z\"])"
   ]
  },
  {
   "cell_type": "markdown",
   "id": "e35b45e5",
   "metadata": {},
   "source": [
    "### 4.Write a function, that replaces all vowels in a string with a specified vowel.\n",
    "**Examples:**  \n",
    "`vow_replace(\"apples and bananas\", \"u\") ➞ \"upplus und bununus\"`  \n",
    "`vow_replace(\"cheese casserole\", \"o\") ➞ \"chooso cossorolo\"`  \n",
    "`vow_replace(\"stuffed jalapeno poppers\", \"e\") ➞ \"steffed jelepene peppers\"`  \n",
    "\n",
    "**Notes:**   \n",
    "All words will be lowercase. Y is not considered a vowel."
   ]
  },
  {
   "cell_type": "code",
   "execution_count": 10,
   "id": "f29523dc",
   "metadata": {},
   "outputs": [],
   "source": [
    "def vow_replace(string: str, char: str):\n",
    "    vowels = 'aeiou'\n",
    "    for i in string:\n",
    "        if i in vowels:\n",
    "            string = string.replace(i, char)\n",
    "            \n",
    "    return string"
   ]
  },
  {
   "cell_type": "code",
   "execution_count": 11,
   "id": "c3dd0bc9",
   "metadata": {},
   "outputs": [
    {
     "name": "stdout",
     "output_type": "stream",
     "text": [
      "upplus und bununus\n",
      "chooso cossorolo\n",
      "steffed jelepene peppers\n"
     ]
    }
   ],
   "source": [
    "print(vow_replace(\"apples and bananas\", \"u\"))\n",
    "print(vow_replace(\"cheese casserole\", \"o\"))\n",
    "print(vow_replace(\"stuffed jalapeno poppers\", \"e\"))"
   ]
  },
  {
   "cell_type": "markdown",
   "id": "71a67c59",
   "metadata": {},
   "source": [
    "### 5.Create a function that takes a string as input and capitalizes a letter if its ASCII code is even and returns its lower case version if its ASCII code is odd.\n",
    "**Examples:**  \n",
    "`ascii_capitalize(\"to be or not to be!\") ➞ \"To Be oR NoT To Be!\"`  \n",
    "`ascii_capitalize(\"THE LITTLE MERMAID\") ➞ \"THe LiTTLe meRmaiD\"`  \n",
    "`ascii_capitalize(\"Oh what a beautiful morning.\") ➞ \"oH wHaT a BeauTiFuL moRNiNg.\"`  "
   ]
  },
  {
   "cell_type": "code",
   "execution_count": 12,
   "id": "6afe0c64",
   "metadata": {},
   "outputs": [],
   "source": [
    "def ascii_capitalize(string):\n",
    "    l = []\n",
    "    for i in range(len(string)):\n",
    "        if ord(string[i]) % 2 == 0:\n",
    "            l.append(string[i].upper())\n",
    "        else:\n",
    "            l.append(string[i].lower())\n",
    "\n",
    "    return \"\".join((l))"
   ]
  },
  {
   "cell_type": "code",
   "execution_count": 13,
   "id": "0ee6e640",
   "metadata": {},
   "outputs": [
    {
     "data": {
      "text/plain": [
       "'To Be oR NoT To Be!'"
      ]
     },
     "execution_count": 13,
     "metadata": {},
     "output_type": "execute_result"
    }
   ],
   "source": [
    "ascii_capitalize(\"to be or not to be!\")"
   ]
  },
  {
   "cell_type": "code",
   "execution_count": 14,
   "id": "e3ad772b",
   "metadata": {},
   "outputs": [
    {
     "data": {
      "text/plain": [
       "'THe LiTTLe meRmaiD'"
      ]
     },
     "execution_count": 14,
     "metadata": {},
     "output_type": "execute_result"
    }
   ],
   "source": [
    "ascii_capitalize(\"THE LITTLE MERMAID\")"
   ]
  },
  {
   "cell_type": "code",
   "execution_count": 15,
   "id": "07c50976",
   "metadata": {},
   "outputs": [
    {
     "data": {
      "text/plain": [
       "'oH wHaT a BeauTiFuL moRNiNg.'"
      ]
     },
     "execution_count": 15,
     "metadata": {},
     "output_type": "execute_result"
    }
   ],
   "source": [
    "ascii_capitalize(\"Oh what a beautiful morning.\")"
   ]
  }
 ],
 "metadata": {
  "kernelspec": {
   "display_name": "Python 3 (ipykernel)",
   "language": "python",
   "name": "python3"
  },
  "language_info": {
   "codemirror_mode": {
    "name": "ipython",
    "version": 3
   },
   "file_extension": ".py",
   "mimetype": "text/x-python",
   "name": "python",
   "nbconvert_exporter": "python",
   "pygments_lexer": "ipython3",
   "version": "3.9.7"
  }
 },
 "nbformat": 4,
 "nbformat_minor": 5
}
