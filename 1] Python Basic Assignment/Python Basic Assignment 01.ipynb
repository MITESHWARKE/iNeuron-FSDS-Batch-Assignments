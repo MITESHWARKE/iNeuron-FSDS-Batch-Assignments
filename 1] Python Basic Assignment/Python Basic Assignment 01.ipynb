{
 "cells": [
  {
   "cell_type": "markdown",
   "id": "e436c39c",
   "metadata": {},
   "source": [
    "# Python Basic Assignment\n",
    "## Assignment - 1"
   ]
  },
  {
   "cell_type": "markdown",
   "id": "8d45c64d",
   "metadata": {},
   "source": [
    "### 1. In the below elements which of them are values or an expression? eg:- values can be integer or string and expressions will be mathematical operators.\n",
    "\n",
    "`*`,`'hello'`, `-87.8`,`-`,`/`,`+`,`6`\n"
   ]
  },
  {
   "cell_type": "markdown",
   "id": "eaec2d61",
   "metadata": {},
   "source": [
    "   **Ans:** There are a total of 4 Expressions and 3 values, They are:  \n",
    "   \n",
    "    *            : Expression(Mathematical operator)\n",
    "    'hello'      : Value (String) \n",
    "    -87.8        : Value (Float)\n",
    "    -            : Expression(Mathematical operator)\n",
    "    /            : Expression(Mathematical operator)\n",
    "    +            : Expression(Mathematical operator)\n",
    "    6            : Value (Integer)"
   ]
  },
  {
   "cell_type": "markdown",
   "id": "1a79e0f8",
   "metadata": {},
   "source": [
    "### 2. What is the difference between string and variable?\n"
   ]
  },
  {
   "cell_type": "markdown",
   "id": "5ea8cd1e",
   "metadata": {},
   "source": [
    "**Ans:** \n",
    "\n",
    "**Variable**: A variable is an identifier which is used to store a value in a memory location and to manipulate it if needed OR variables are references to memory locations that you create to refer to other values in your program later.\n",
    "\n",
    "**Strings**: Strings is a data type for a a sequence of characters. A string is a collection of one or more characters put in a single quote, double-quote or triple quote.\n",
    "\n"
   ]
  },
  {
   "cell_type": "markdown",
   "id": "fe4342e9",
   "metadata": {},
   "source": [
    "### 3. Describe three different Data Types ?\n",
    "**Ans:** Three fundamental Data types in python are `int`, `float`, `string`.\n",
    "1. **int data type**: This datatype represents Integers and is used to store or represent whole numbers. eg 10, 0, -99\n",
    "\n",
    "2. **float data type**: This datatype represents Floating Point numbers. floating point numbers (float) are positive and negative real numbers with a fractional part denoted by the decimal symbol . or the scientific notation E or e eg. 1e3, 1.025, -5.26\n",
    "\n",
    "3. **str data type**: In Python, Strings are arrays of bytes representing Unicode characters. A string is a collection of one or more characters put in a single quote, double-quote or triple quote. eg. \"abs\", \"v\", \"90\""
   ]
  },
  {
   "cell_type": "markdown",
   "id": "0efcb458",
   "metadata": {},
   "source": [
    "### 4. What is an expression made up of? What do all expressions do?\n"
   ]
  },
  {
   "cell_type": "markdown",
   "id": "e8706111",
   "metadata": {},
   "source": [
    "**Ans:**\n",
    "An expression is a construct made up of values, variables, operators, and method invocations, which are constructed according to the syntax of the language, that evaluates to a single value.\n",
    "    \n",
    "All Expressions evaluate to a value i.e When Python evaluates the expression, it displays the result of the expression (after evaluation)"
   ]
  },
  {
   "cell_type": "code",
   "execution_count": 1,
   "id": "c33e0cea",
   "metadata": {},
   "outputs": [
    {
     "data": {
      "text/plain": [
       "0"
      ]
     },
     "execution_count": 1,
     "metadata": {},
     "output_type": "execute_result"
    }
   ],
   "source": [
    "4*5+20-40 # Is an Expression, The Python Interpreter Evaluates it to 0"
   ]
  },
  {
   "cell_type": "markdown",
   "id": "c44f88f6",
   "metadata": {},
   "source": [
    "### 5. This assignment statements, like spam = 10. What is the difference between an expression and a statement?\n"
   ]
  },
  {
   "cell_type": "markdown",
   "id": "d69a85df",
   "metadata": {},
   "source": [
    "**Ans:**   The following points highlight the differences between expressions and statements:\n",
    "\n",
    "An expression is a combination of values, variables, and operators. When we type an expression at the prompt, \n",
    "the interpreter evaluates it, which means that it finds the value of the expression.\n",
    "Evaluation of an expression always Produces or returns a result value. but execution of a statement may or may not produces or displays a result value, it only does whatever the statement says.\n",
    "\n",
    "**eg:** 4*5+20-40 is an example of a expression\n",
    "\n",
    "A statement is a unit of code that has an effect, like creating a variable or displaying a value.When we type a statement,\n",
    "the interpreter executes it, which means that it does whatever the statement says. In general, statements don’t have values.\n",
    "\n",
    "**eg:** variable declaration and assignment are statements because they do not return a value.\n",
    "so in the above case spam = 10 is a statement it is allocating the value 10 to varible spam"
   ]
  },
  {
   "cell_type": "markdown",
   "id": "30bcfc2b",
   "metadata": {},
   "source": [
    "### 6.After running the following code, what does the variable bacon contain?\n",
    "`bacon = 22`  \n",
    "`bacon + 1`\n"
   ]
  },
  {
   "cell_type": "code",
   "execution_count": 3,
   "id": "43c87009",
   "metadata": {},
   "outputs": [
    {
     "data": {
      "text/plain": [
       "23"
      ]
     },
     "execution_count": 3,
     "metadata": {},
     "output_type": "execute_result"
    }
   ],
   "source": [
    "bacon = 22\n",
    "bacon + 1"
   ]
  },
  {
   "cell_type": "code",
   "execution_count": 4,
   "id": "dbe7c1b8",
   "metadata": {},
   "outputs": [
    {
     "data": {
      "text/plain": [
       "22"
      ]
     },
     "execution_count": 4,
     "metadata": {},
     "output_type": "execute_result"
    }
   ],
   "source": [
    "bacon"
   ]
  },
  {
   "cell_type": "markdown",
   "id": "5c4d89a7",
   "metadata": {},
   "source": [
    "Initially the value of bacon is 22 \n",
    "\n",
    "After incrementing the value of bacon by 1 is becomes 23\n",
    "\n",
    "Still when we print the value of bacon it is 22\n",
    "This is because after the incrementing the value by 1 we haven't assigned the value to some variable or to bacon variable itself."
   ]
  },
  {
   "cell_type": "markdown",
   "id": "5dedeaf0",
   "metadata": {},
   "source": [
    "### 7.What should the values of the following two terms be?  \n",
    "`'spam'+'spamspam'`  \n",
    "`'spam'*3`\n"
   ]
  },
  {
   "cell_type": "markdown",
   "id": "f08a8daf",
   "metadata": {},
   "source": [
    "**Ans:** Both expressions evaluate to the string **`'spamspamspam'`**\n",
    "Where as the first expression follows `String Concatentation` and the second expression follows `String Multiplication`"
   ]
  },
  {
   "cell_type": "code",
   "execution_count": 6,
   "id": "818b5a36",
   "metadata": {},
   "outputs": [
    {
     "name": "stdout",
     "output_type": "stream",
     "text": [
      "spamspamspam\n",
      "spamspamspam\n"
     ]
    }
   ],
   "source": [
    "print('spam'+'spamspam') # string concatenation\n",
    "print('spam'*3) # string multiplication"
   ]
  },
  {
   "cell_type": "markdown",
   "id": "0c6b82fb",
   "metadata": {},
   "source": [
    "### 8. Why is eggs a valid variable name while 100 is invalid?\n"
   ]
  },
  {
   "cell_type": "markdown",
   "id": "de8a2673",
   "metadata": {},
   "source": [
    "**Ans:** \n",
    "In python there are certain variable rules that are needed to be followed.\n",
    "* A variable can have a short name (like x and y) or a more descriptive name (age, carname, total_volume).\n",
    "* A variable name must start with a letter or the underscore character\n",
    "* A variable name cannot start with a number\n",
    "* A variable name can only contain alpha-numeric characters and underscores (A-z, 0-9, and _ )\n",
    "* Variable names are case-sensitive (age, Age and AGE are three different variables)\n",
    "\n",
    "Thus, eggs being written in form of letters or characters is valid while 100 being an interger is not valid."
   ]
  },
  {
   "cell_type": "markdown",
   "id": "f6e321dd",
   "metadata": {},
   "source": [
    "### 9.What three functions can be used to get the integer,floating-point number,or string version of a value?\n",
    "\n",
    "**Ans:** We can use the `int()`,`float()`,and `str()` functions to evaluate to the integer,floating-point number,string version of the value passed to them."
   ]
  },
  {
   "cell_type": "code",
   "execution_count": 8,
   "id": "16baaffc",
   "metadata": {},
   "outputs": [
    {
     "name": "stdout",
     "output_type": "stream",
     "text": [
      "int(13.0) :  13\n",
      "float(13) :  13.0\n",
      "str(13) :  13\n"
     ]
    }
   ],
   "source": [
    "print('int(13.0) : ',int(13.0)) # int() float to int\n",
    "print('float(13) : ',float(13)) # float() int to float\n",
    "print('str(13) : ',str(13)) # str() int to string"
   ]
  },
  {
   "cell_type": "markdown",
   "id": "d2a5e49b",
   "metadata": {},
   "source": [
    "### 10.Why does this expression cause an error? how can you fix it?  \n",
    "`'I have eaten ' + 99 + 'burritos.'`"
   ]
  },
  {
   "cell_type": "markdown",
   "id": "d62f5441",
   "metadata": {},
   "source": [
    "**Ans:**\n",
    " \n",
    "    1. Operator such as '+' can only operate on values of same datatypes.\n",
    "    2. In the given expression we two values of string data type and one of int datatype.\n",
    "    3. The above expression will give an error 'TypeError: can only concatenate str (not \"int\") to str'\n",
    "    4. There are exception to this rule such as multiplying a string with an int which returns the same string   repeated the integer value of time.\n",
    "    \n",
    "   This can be fixed when we convert the integer type to string datatype\n"
   ]
  },
  {
   "cell_type": "code",
   "execution_count": 9,
   "id": "db19a010",
   "metadata": {},
   "outputs": [
    {
     "data": {
      "text/plain": [
       "'I have eaten 99 burritos.'"
      ]
     },
     "execution_count": 9,
     "metadata": {},
     "output_type": "execute_result"
    }
   ],
   "source": [
    "# Method 1\n",
    "'I have eaten ' + str(99) + ' burritos.'\n",
    "\n",
    "# Method 2\n",
    "'I have eaten ' + \"99\" + ' burritos.'"
   ]
  },
  {
   "cell_type": "code",
   "execution_count": null,
   "id": "aedcd22e",
   "metadata": {},
   "outputs": [],
   "source": []
  }
 ],
 "metadata": {
  "kernelspec": {
   "display_name": "Python 3 (ipykernel)",
   "language": "python",
   "name": "python3"
  },
  "language_info": {
   "codemirror_mode": {
    "name": "ipython",
    "version": 3
   },
   "file_extension": ".py",
   "mimetype": "text/x-python",
   "name": "python",
   "nbconvert_exporter": "python",
   "pygments_lexer": "ipython3",
   "version": "3.9.7"
  }
 },
 "nbformat": 4,
 "nbformat_minor": 5
}
