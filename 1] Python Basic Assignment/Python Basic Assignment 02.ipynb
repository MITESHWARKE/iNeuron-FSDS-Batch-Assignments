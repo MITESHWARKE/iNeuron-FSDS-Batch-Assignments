{
 "cells": [
  {
   "cell_type": "markdown",
   "id": "884d3a7a",
   "metadata": {},
   "source": [
    "# Python Basic Assignment\n",
    "## Assignment - 2"
   ]
  },
  {
   "cell_type": "markdown",
   "id": "85a9c8d8",
   "metadata": {},
   "source": [
    "### 1.What are the two values of the boolean data types? how do you write them ?\n",
    "**Ans**: `True` and `False` are two values of the boolen data types. We have to use capital T and F and with the rest of the word in lowercase"
   ]
  },
  {
   "cell_type": "code",
   "execution_count": 1,
   "id": "a5d2ff74",
   "metadata": {},
   "outputs": [
    {
     "name": "stdout",
     "output_type": "stream",
     "text": [
      "True <class 'bool'>\n",
      "False <class 'bool'>\n"
     ]
    }
   ],
   "source": [
    "a=True\n",
    "b=False\n",
    "print(a,type(a))\n",
    "print(b,type(b))"
   ]
  },
  {
   "cell_type": "markdown",
   "id": "2fbd02c1",
   "metadata": {},
   "source": [
    "### 2. What are the three different types of Boolean operators?\n",
    "**Ans**: The three differnt types of Boolean operators or  logical Operators in python are:  `and` , `or` , `not`\n",
    "\n",
    "`and` : If **both arguments are True** then only result is True \n",
    "\n",
    "`or` : If **atleast one arugemnt is True** then result is True \n",
    "\n",
    "`not` : Complement "
   ]
  },
  {
   "cell_type": "code",
   "execution_count": 4,
   "id": "a2b91769",
   "metadata": {},
   "outputs": [
    {
     "name": "stdout",
     "output_type": "stream",
     "text": [
      "True\n",
      "True\n",
      "False\n"
     ]
    }
   ],
   "source": [
    "a=100\n",
    "b=200\n",
    "print(a>50 and b>100) # Example of boolean and\n",
    "print(a>200 or b>100) # Example of boolean or\n",
    "print(not(a>10)) # Example of boolean not"
   ]
  },
  {
   "cell_type": "markdown",
   "id": "ae2f91fd",
   "metadata": {},
   "source": [
    "### 3. Make a list of each Boolean operator&#39;s truth tables (i.e. every possible combination of Boolean values for the operator and what it evaluate) ?\n",
    "\n",
    "### Answer:\n",
    "\n",
    "`and` : If **both arguments are True** then only result is True \n",
    "\n",
    "`or` : If **atleast one arugemnt is True** then result is True \n",
    "\n",
    "`not` : Complement \n",
    "\n",
    "\n",
    "### Truth Tables for each operator\n",
    "\n",
    "\n",
    "* **`and`**  \n",
    "    `True` and `True` is `True`   \n",
    "    `True` and `False` is `False`  \n",
    "    `False` and `True` is `False`  \n",
    "    `False` and `False` is `False`\n",
    "    \n",
    "    \n",
    "* **`or`**  \n",
    "    `True` and `True` is `True`   \n",
    "    `True` and `False` is `True`  \n",
    "    `False` and `True` is `True`  \n",
    "    `False` and `False` is `False`\n",
    "    \n",
    "    \n",
    "* **`not`**        \n",
    "    `True` not is `False`\n",
    "    `False` not is `True`\n",
    "    \n",
    "    \n"
   ]
  },
  {
   "cell_type": "markdown",
   "id": "5df97d2d",
   "metadata": {},
   "source": [
    "### 4. What are the values of the following expressions ?\n",
    "* (5 &gt; 4) and (3 == 5)  \n",
    "* not (5 &gt; 4)  \n",
    "* (5 &gt; 4) or (3 == 5)  \n",
    "* not ((5 &gt; 4) or (3 == 5))  \n",
    "* (True and True) and (True == False)  \n",
    "* (not False) or (not True)  "
   ]
  },
  {
   "cell_type": "code",
   "execution_count": 6,
   "id": "78af5024",
   "metadata": {},
   "outputs": [
    {
     "name": "stdout",
     "output_type": "stream",
     "text": [
      "(5 > 4) and (3 == 5) --> False\n",
      "not (5 > 4) --> False\n",
      "(5 > 4) or (3 == 5) --> True\n",
      "not ((5 > 4) or (3 == 5)) --> False\n",
      "(True and True) and (True == False) --> False\n",
      "(not False) or (not True) --> True\n"
     ]
    }
   ],
   "source": [
    "print(f\"(5 > 4) and (3 == 5) --> {(5 > 4) and (3 == 5)}\")\n",
    "print(f\"not (5 > 4) --> {not (5 > 4)}\")\n",
    "print(f\"(5 > 4) or (3 == 5) --> {(5 > 4) or (3 == 5)}\")\n",
    "print(f\"not ((5 > 4) or (3 == 5)) --> {not ((5 > 4) or (3 == 5))}\")\n",
    "print(f\"(True and True) and (True == False) --> {(True and True) and (True == False)}\")\n",
    "print(f\"(not False) or (not True) --> {(not False) or (not True)}\")"
   ]
  },
  {
   "cell_type": "markdown",
   "id": "be7fce89",
   "metadata": {},
   "source": [
    "### 5. What are the six comparison operators?\n",
    "**Ans:**  The Six comparision operators available in python are:  \n",
    "`==` , `!=` , `<` , `>` , `<=` , `=>`\n",
    "\n",
    "1. `==`  :  Equal to Operator\n",
    "2. `!=`  :  Not Equal to Operator\n",
    "\n",
    "3. `<` :  Less than Operator\n",
    "4. `>` :  Greater than Operator\n",
    "\n",
    "5. `<=` :  Less than or Equal to Operator\n",
    "6. `>=` :  Greater than or Equal to Operator"
   ]
  },
  {
   "cell_type": "code",
   "execution_count": 7,
   "id": "94f8d823",
   "metadata": {},
   "outputs": [
    {
     "name": "stdout",
     "output_type": "stream",
     "text": [
      "False\n",
      "True\n",
      "True\n",
      "False\n",
      "False\n",
      "True\n"
     ]
    }
   ],
   "source": [
    "#Example\n",
    "print(True > True) \n",
    "print(True >= True) \n",
    "print(10 > True) \n",
    "print(False > True) \n",
    "print(False == True)\n",
    "print(False != True)"
   ]
  },
  {
   "cell_type": "markdown",
   "id": "b25ca423",
   "metadata": {},
   "source": [
    "### 6. How do you tell the difference between the equal to and assignment operators?Describe a condition and when you would use one ? \n",
    "**Ans:** `==` is an equality Operator that compares two values and evaluates and returns a Boolean return true if both have same vale else false if different, \n",
    "\n",
    "while `=` is that assignment operator that stores a value in a variable.\n"
   ]
  },
  {
   "cell_type": "code",
   "execution_count": 8,
   "id": "c96dd864",
   "metadata": {},
   "outputs": [
    {
     "name": "stdout",
     "output_type": "stream",
     "text": [
      "False\n",
      "c = 1\n"
     ]
    }
   ],
   "source": [
    "#Example\n",
    "\n",
    "# Equal To Operator\n",
    "if(2==3):\n",
    "    print(\"True\")\n",
    "else:\n",
    "    print(\"False\")\n",
    "    \n",
    "#Assignment operator\n",
    "\n",
    "c=1 #here we have used assignment operator(=) to assign value of c which is 1\n",
    "print(\"c =\",c)"
   ]
  },
  {
   "cell_type": "markdown",
   "id": "78797e99",
   "metadata": {},
   "source": [
    "### 7. Identify the three blocks in this code:\n",
    "spam = 0  \n",
    "if spam == 10:  \n",
    "print('eggs')  \n",
    "if spam > 5:  \n",
    "print('bacon')  \n",
    "else:  \n",
    "print('ham')  \n",
    "print('spam')  \n",
    "print('spam')\n",
    "\n",
    "**Ans**: In Python, code block refers to a collection of code that is in the same block or indent. This is most commonly found in classes, functions, and loops.\n",
    "Block can be refered as a sub-section. A tab space/ indentation is used to show blocks.\n",
    "\n"
   ]
  },
  {
   "cell_type": "code",
   "execution_count": 9,
   "id": "958946df",
   "metadata": {},
   "outputs": [
    {
     "name": "stdout",
     "output_type": "stream",
     "text": [
      "spam\n"
     ]
    }
   ],
   "source": [
    "\n",
    "spam = 0 #FIRST BLOCK OF CODE [Assignment Operation]\n",
    "\n",
    "if spam == 10:  #SECOND BLOCK OF CODE [If Condition]\n",
    "    print(\"eggs\")  \n",
    "    \n",
    "    if spam > 5:    #THIRD BLOCK OF CODE [Condition Checking with IF-ELSE Block]\n",
    "        print(\"bacon\")\n",
    "    else:\n",
    "        print(\"ham\")\n",
    "    \n",
    "    print(\"spam\")\n",
    "print(\"spam\")\n"
   ]
  },
  {
   "cell_type": "markdown",
   "id": "f4e2f435",
   "metadata": {},
   "source": [
    "### 8. Write code that prints Hello if 1 is stored in spam, prints Howdy if 2 is stored in spam, and prints Greetings! if anything else is stored in spam.\n"
   ]
  },
  {
   "cell_type": "code",
   "execution_count": 10,
   "id": "f9b863be",
   "metadata": {},
   "outputs": [
    {
     "name": "stdout",
     "output_type": "stream",
     "text": [
      "Hello\n",
      "Howdy\n",
      "Greetings\n"
     ]
    }
   ],
   "source": [
    "def test(spam):\n",
    "    if spam==1:\n",
    "        print('Hello')\n",
    "    elif spam==2:\n",
    "        print('Howdy')\n",
    "    else:\n",
    "        print('Greetings')\n",
    "        \n",
    "test(1) \n",
    "test(2)\n",
    "test(3)"
   ]
  },
  {
   "cell_type": "markdown",
   "id": "4b41174a",
   "metadata": {},
   "source": [
    "### 9.If your programme is stuck in an endless loop, what keys you’ll press?\n",
    "**Ans:** Press `Ctrl-c` to stop a program stuck in an infinite loop"
   ]
  },
  {
   "cell_type": "markdown",
   "id": "5eafc23c",
   "metadata": {},
   "source": [
    "### 10. How can you tell the difference between break and continue?\n",
    "**Ans:** \n",
    "\n",
    "The `break` statement will end the execution of the loop and move the code flow to out . \n",
    "\n",
    "The `continue` statement will skip the current iteration and move to the next step of iteration and continues."
   ]
  },
  {
   "cell_type": "code",
   "execution_count": 11,
   "id": "99e7fccc",
   "metadata": {},
   "outputs": [
    {
     "name": "stdout",
     "output_type": "stream",
     "text": [
      "0\n",
      "1\n",
      "2\n",
      "3\n",
      "4\n"
     ]
    }
   ],
   "source": [
    "#example of break:\n",
    "for i in range(10):\n",
    "    if i==5:\n",
    "        break\n",
    "    print(i)"
   ]
  },
  {
   "cell_type": "code",
   "execution_count": 12,
   "id": "47ea3a30",
   "metadata": {},
   "outputs": [
    {
     "name": "stdout",
     "output_type": "stream",
     "text": [
      "10\n",
      "20\n",
      "40\n",
      "50\n"
     ]
    }
   ],
   "source": [
    "l = [10,20,30,40,50]\n",
    "for i in l:\n",
    "    if i==30:\n",
    "        continue\n",
    "    print(i)"
   ]
  },
  {
   "cell_type": "markdown",
   "id": "dee3ebe4",
   "metadata": {},
   "source": [
    "### 11. In a for loop, what is the difference between range(10), range(0, 10), and range(0, 10, 1)?\n",
    "**Ans:** In terms of output there is no difference between range(10), range(0, 10), and range(0, 10, 1).\n",
    "    The syntax of range is range(initial, final, step size). The Differences are as follows:  \n",
    "`range(initial, final, step)`\n",
    "\n",
    "\n",
    "if No start value is provided 0 is considered as the initial start\n",
    "\n",
    "Also, is step value is provided default 1 is considered as the step value\n",
    "\n",
    "* Functionality wise in this perticular scenario there is no difference.\n",
    "\n",
    "`range(10)` : `range(final)` if 1 input are provided to the range parameter , range from 0 to 9 (does not includes 10)  \n",
    "\n",
    "`range(0,10)` : `range(initial, final)` if 2 inputs are provided to the range parameter, to start at 0 and end at 9 (does not includes 10)\n",
    "\n",
    "`range(0,10,1)` : `range(initial_Value, final, step)` if 3 inputs are provided to the range parameter , to start at 0 and end at 9 (does not includes 10) and step is 1 (skip by 1).\n",
    "\n",
    "    \n",
    "    \n",
    "    \n",
    "    \n",
    "    \n"
   ]
  },
  {
   "cell_type": "markdown",
   "id": "0ce5b1f1",
   "metadata": {},
   "source": [
    "### 12. Write a short program that prints the numbers 1 to 10 using a for loop. Then write an equivalent program that prints the numbers 1 to 10 using a while loop ? "
   ]
  },
  {
   "cell_type": "code",
   "execution_count": 13,
   "id": "597a307f",
   "metadata": {},
   "outputs": [
    {
     "name": "stdout",
     "output_type": "stream",
     "text": [
      "\n",
      " Using for loop\n",
      "\n",
      "1 2 3 4 5 6 7 8 9 10 \n",
      " Using while loop\n",
      "\n",
      "1 2 3 4 5 6 7 8 9 10 "
     ]
    }
   ],
   "source": [
    "#  Using For Loop\n",
    "print('\\n Using for loop\\n')\n",
    "for i in range(10):\n",
    "    print(i+1, end=\" \")\n",
    "\n",
    "\n",
    "# Using While Loop\n",
    "print('\\n Using while loop\\n')\n",
    "i=0\n",
    "while i<10:\n",
    "    print(i+1, end=\" \")\n",
    "    i+=1"
   ]
  },
  {
   "cell_type": "markdown",
   "id": "dfac2cf6",
   "metadata": {},
   "source": [
    "### 13. If you had a function named bacon() inside a module named spam, how would you call it after importing spam ?\n",
    "**Ans:** This function can be called with:\n",
    "\n",
    "#### DEFINING the MODULE\n",
    " ``import spam``\n",
    "\n",
    "#### CALLING the bacon function\n",
    " ``spam.bacon()``\n",
    "\n",
    "or\n",
    "\n",
    "``from spam import *``\n",
    "\n",
    "``bacon()``"
   ]
  },
  {
   "cell_type": "code",
   "execution_count": null,
   "id": "983e4be5",
   "metadata": {},
   "outputs": [],
   "source": []
  }
 ],
 "metadata": {
  "kernelspec": {
   "display_name": "Python 3 (ipykernel)",
   "language": "python",
   "name": "python3"
  },
  "language_info": {
   "codemirror_mode": {
    "name": "ipython",
    "version": 3
   },
   "file_extension": ".py",
   "mimetype": "text/x-python",
   "name": "python",
   "nbconvert_exporter": "python",
   "pygments_lexer": "ipython3",
   "version": "3.9.7"
  }
 },
 "nbformat": 4,
 "nbformat_minor": 5
}
