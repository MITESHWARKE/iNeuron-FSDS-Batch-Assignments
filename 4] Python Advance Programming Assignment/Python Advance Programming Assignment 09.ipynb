{
 "cells": [
  {
   "cell_type": "markdown",
   "id": "26998e5e",
   "metadata": {},
   "source": [
    "# Python Advance Programming Assignment\n",
    "## Assignment - 09 [ FSDS NOV 21 ]"
   ]
  },
  {
   "cell_type": "markdown",
   "id": "e523ff5f",
   "metadata": {},
   "source": [
    "### 1. YouTube offers different playback speed options for users. This allows users to increase or decrease the speed of the video content. Given the actual duration and playback speed of the video, calculate the playback duration of the video.\n",
    "**Examples:**    \n",
    "`playback_duration(\"00:30:00\", 2) ➞ \"00:15:00\"`  \n",
    "`playback_duration(\"01:20:00\", 1.5) ➞ \"00:53:20\"`   \n",
    "`playback_duration(\"51:20:09\", 0.5) ➞ \"102:40:18\"`   "
   ]
  },
  {
   "cell_type": "code",
   "execution_count": 6,
   "id": "8c5de1ac",
   "metadata": {},
   "outputs": [],
   "source": [
    "import datetime\n",
    "def playback_duration(actualDuration,speed):\n",
    "\n",
    "    hour = int(actualDuration.split(':')[0])\n",
    "    minute = int(actualDuration.split(':')[1])\n",
    "    sec = int(actualDuration.split(':')[2])\n",
    "    #Total playbackduration in x speed\n",
    "    totalsec = ((hour*60*60) + (minute*60) + sec)/speed\n",
    "    #convert seconds in to time formate\n",
    "    conversion = datetime.timedelta(seconds=totalsec)\n",
    "    converted_time = str(conversion)\n",
    "    return converted_time"
   ]
  },
  {
   "cell_type": "code",
   "execution_count": 7,
   "id": "cdec15c8",
   "metadata": {},
   "outputs": [
    {
     "data": {
      "text/plain": [
       "'0:15:00'"
      ]
     },
     "execution_count": 7,
     "metadata": {},
     "output_type": "execute_result"
    }
   ],
   "source": [
    "playback_duration('00:30:00', 2)"
   ]
  },
  {
   "cell_type": "code",
   "execution_count": 8,
   "id": "e7d66a82",
   "metadata": {},
   "outputs": [
    {
     "data": {
      "text/plain": [
       "'0:53:20'"
      ]
     },
     "execution_count": 8,
     "metadata": {},
     "output_type": "execute_result"
    }
   ],
   "source": [
    "playback_duration('01:20:00', 1.5)"
   ]
  },
  {
   "cell_type": "code",
   "execution_count": 9,
   "id": "d28a4189",
   "metadata": {},
   "outputs": [
    {
     "data": {
      "text/plain": [
       "'4 days, 6:40:18'"
      ]
     },
     "execution_count": 9,
     "metadata": {},
     "output_type": "execute_result"
    }
   ],
   "source": [
    "playback_duration('51:20:09', 0.5)"
   ]
  },
  {
   "cell_type": "markdown",
   "id": "aac8e3b8",
   "metadata": {},
   "source": [
    "### 2. We needs your help to construct a building which will be a pile of n cubes. The cube at the bottom will have a volume of n^3, the cube above will have volume of (n-1)^3 and so on until the top which will have a volume of 1^3.\n",
    "Given the total volume m of the building, can you find the number of cubes n required for the building?  \n",
    "In other words, you have to return an integer n such that:   `n^3 + (n-1)^3 + ... + 1^3 == m`  \n",
    "Return None if there is no such number.  \n",
    "**Examples:**    \n",
    "`pile_of_cubes(1071225) ➞ 45`   \n",
    "`pile_of_cubes(4183059834009) ➞ 2022`   \n",
    "`pile_of_cubes(16) ➞ None`  "
   ]
  },
  {
   "cell_type": "code",
   "execution_count": 34,
   "id": "98040fe8",
   "metadata": {},
   "outputs": [],
   "source": [
    "def max_level(remain_volume, currLevel):\n",
    "    if remain_volume < currLevel ** 3:\n",
    "        return None\n",
    "    if remain_volume == currLevel ** 3:\n",
    "        return currLevel\n",
    "    return max_level(remain_volume - currLevel**3, currLevel + 1)\n",
    "\n",
    "def pile_of_cubes(vol):\n",
    "    level = 1\n",
    "    return max_level(vol, level)"
   ]
  },
  {
   "cell_type": "code",
   "execution_count": 35,
   "id": "0685d5bf",
   "metadata": {},
   "outputs": [
    {
     "data": {
      "text/plain": [
       "45"
      ]
     },
     "execution_count": 35,
     "metadata": {},
     "output_type": "execute_result"
    }
   ],
   "source": [
    "pile_of_cubes(1071225)"
   ]
  },
  {
   "cell_type": "code",
   "execution_count": 36,
   "id": "3e12e9c1",
   "metadata": {},
   "outputs": [
    {
     "data": {
      "text/plain": [
       "2022"
      ]
     },
     "execution_count": 36,
     "metadata": {},
     "output_type": "execute_result"
    }
   ],
   "source": [
    "pile_of_cubes(4183059834009)"
   ]
  },
  {
   "cell_type": "code",
   "execution_count": 37,
   "id": "bedf160a",
   "metadata": {},
   "outputs": [
    {
     "name": "stdout",
     "output_type": "stream",
     "text": [
      "None\n"
     ]
    }
   ],
   "source": [
    "print(pile_of_cubes(16))"
   ]
  },
  {
   "cell_type": "markdown",
   "id": "483403b6",
   "metadata": {},
   "source": [
    "### 3. A fulcrum of a list is an integer such that all elements to the left of it and all elements to the right of it sum to the same value. Write a function that finds the fulcrum of a list.\n",
    "**To illustrate:**     \n",
    "`find_fulcrum([3, 1, 5, 2, 4, 6, -1]) ➞ 2`   // Since [3, 1, 5] and [4, 6, -1] both sum to 9   \n",
    "**Examples:**    \n",
    "`find_fulcrum([1, 2, 4, 9, 10, -10, -9, 3]) ➞ 4`   \n",
    "`find_fulcrum([9, 1, 9]) ➞ 1`  \n",
    "`find_fulcrum([7, -1, 0, -1, 1, 1, 2, 3]) ➞ 0`   \n",
    "`find_fulcrum([8, 8, 8, 8]) ➞ -1`   "
   ]
  },
  {
   "cell_type": "code",
   "execution_count": 3,
   "id": "c1bb89e8",
   "metadata": {},
   "outputs": [
    {
     "name": "stdout",
     "output_type": "stream",
     "text": [
      "find_fulcrum([3, 1, 5, 2, 4, 6, -1]) ➞ 2\n",
      "find_fulcrum([1, 2, 4, 9, 10, -10, -9, 3]) ➞ 4\n",
      "find_fulcrum([9, 1, 9]) ➞ 1\n",
      "find_fulcrum([7, -1, 0, -1, 1, 1, 2, 3]) ➞ 0\n",
      "find_fulcrum([8, 8, 8, 8]) ➞ -1\n"
     ]
    }
   ],
   "source": [
    "def find_fulcrum(in_list):\n",
    "    output = -1\n",
    "    for ele in in_list:\n",
    "        index_of_ele =in_list.index(ele)\n",
    "        if sum(in_list[:index_of_ele]) == sum(in_list[index_of_ele+1:]):\n",
    "            output = ele\n",
    "            break\n",
    "    print(f'find_fulcrum({in_list}) ➞ {output}')\n",
    "        \n",
    "find_fulcrum([3, 1, 5, 2, 4, 6, -1])\n",
    "find_fulcrum([1, 2, 4, 9, 10, -10, -9, 3])\n",
    "find_fulcrum([9, 1, 9])\n",
    "find_fulcrum([7, -1, 0, -1, 1, 1, 2, 3])\n",
    "find_fulcrum([8, 8, 8, 8])"
   ]
  },
  {
   "cell_type": "markdown",
   "id": "2c62ee48",
   "metadata": {},
   "source": [
    "### 4. Given a list of integers representing the color of each sock, determine how many pairs of socks with matching colors there are. For example, there are 7 socks with colors [1, 2, 1, 2, 1, 3, 2]. There is one pair of color 1 and one of color 2. There are three odd socks left, one of each color. The number of pairs is 2.\n",
    "Create a function that returns an integer representing the number of matching pairs of socks that are available.  \n",
    "**Examples:**    \n",
    "`sock_merchant([10, 20, 20, 10, 10, 30, 50, 10, 20]) ➞ 3`   \n",
    "`sock_merchant([50, 20, 30, 90, 30, 20, 50, 20, 90]) ➞ 4`   \n",
    "`sock_merchant([]) ➞ 0`  "
   ]
  },
  {
   "cell_type": "code",
   "execution_count": 11,
   "id": "a2ce4407",
   "metadata": {},
   "outputs": [],
   "source": [
    "def sock_merchant(lst):\n",
    "    listUnique = list(set(lst))\n",
    "    # find count\n",
    "    pairs = 0\n",
    "    for i in listUnique:\n",
    "        if lst.count(i) // 2 > 0:\n",
    "            pairs = pairs + lst.count(i) // 2\n",
    "    return pairs"
   ]
  },
  {
   "cell_type": "code",
   "execution_count": 12,
   "id": "56576b0b",
   "metadata": {},
   "outputs": [
    {
     "data": {
      "text/plain": [
       "3"
      ]
     },
     "execution_count": 12,
     "metadata": {},
     "output_type": "execute_result"
    }
   ],
   "source": [
    "sock_merchant([10, 20, 20, 10, 10, 30, 50, 10, 20])"
   ]
  },
  {
   "cell_type": "code",
   "execution_count": 13,
   "id": "92bbe494",
   "metadata": {},
   "outputs": [
    {
     "data": {
      "text/plain": [
       "4"
      ]
     },
     "execution_count": 13,
     "metadata": {},
     "output_type": "execute_result"
    }
   ],
   "source": [
    "sock_merchant([50, 20, 30, 90, 30, 20, 50, 20, 90])"
   ]
  },
  {
   "cell_type": "code",
   "execution_count": 14,
   "id": "0aaf78f1",
   "metadata": {},
   "outputs": [
    {
     "data": {
      "text/plain": [
       "0"
      ]
     },
     "execution_count": 14,
     "metadata": {},
     "output_type": "execute_result"
    }
   ],
   "source": [
    "sock_merchant([])"
   ]
  },
  {
   "cell_type": "markdown",
   "id": "409b4871",
   "metadata": {},
   "source": [
    "### 5. Create a function that takes a string containing integers as well as other characters and return the sum of the negative integers only.\n",
    "**Examples:**    \n",
    "`negative_sum(\"-12 13%14&-11\") ➞ -23`   \n",
    "`# -12 + -11 = -23`  \n",
    "`negative_sum(\"22 13%14&-11-22 13 12\") ➞ -33`  \n",
    "`# -11 + -22 = -33`  "
   ]
  },
  {
   "cell_type": "code",
   "execution_count": 24,
   "id": "00b457b0",
   "metadata": {},
   "outputs": [],
   "source": [
    "import re\n",
    "def negative_sum(s):\n",
    "    result = [int(d) for d in re.findall(r'-\\d+', s)]\n",
    "    \n",
    "    return sum(result)"
   ]
  },
  {
   "cell_type": "code",
   "execution_count": 25,
   "id": "96caa0c0",
   "metadata": {},
   "outputs": [
    {
     "data": {
      "text/plain": [
       "-23"
      ]
     },
     "execution_count": 25,
     "metadata": {},
     "output_type": "execute_result"
    }
   ],
   "source": [
    "negative_sum('-12 13%14&amp;-11')"
   ]
  },
  {
   "cell_type": "code",
   "execution_count": 26,
   "id": "50194b23",
   "metadata": {},
   "outputs": [
    {
     "data": {
      "text/plain": [
       "-33"
      ]
     },
     "execution_count": 26,
     "metadata": {},
     "output_type": "execute_result"
    }
   ],
   "source": [
    "negative_sum('22 13%14&amp;-11-22 13 12')"
   ]
  }
 ],
 "metadata": {
  "kernelspec": {
   "display_name": "Python 3 (ipykernel)",
   "language": "python",
   "name": "python3"
  },
  "language_info": {
   "codemirror_mode": {
    "name": "ipython",
    "version": 3
   },
   "file_extension": ".py",
   "mimetype": "text/x-python",
   "name": "python",
   "nbconvert_exporter": "python",
   "pygments_lexer": "ipython3",
   "version": "3.9.7"
  }
 },
 "nbformat": 4,
 "nbformat_minor": 5
}
