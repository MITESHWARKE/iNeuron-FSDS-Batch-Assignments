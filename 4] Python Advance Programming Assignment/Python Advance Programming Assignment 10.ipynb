{
 "cells": [
  {
   "cell_type": "markdown",
   "id": "5393ec13",
   "metadata": {},
   "source": [
    "# Python Advance Programming Assignment\n",
    "## Assignment - 10 [ FSDS NOV 21 ]"
   ]
  },
  {
   "cell_type": "markdown",
   "id": "77f97bf0",
   "metadata": {},
   "source": [
    "### 1. Create a function that takes the width, height and character and returns a picture frame as a 2D list.\n",
    "**Examples:**    \n",
    "`get_frame(4, 5, \"#\") ➞ [\n",
    "  [\"####\"],\n",
    "  [\"#  #\"],\n",
    "  [\"#  #\"],\n",
    "  [\"#  #\"],\n",
    "  [\"####\"]\n",
    "]`  \n",
    "`# Frame is 4 characters wide and 5 characters tall.`  \n",
    "\n",
    "`get_frame(10, 3, \"*\") ➞ [\n",
    "  [\"**********\"],\n",
    "  [\"*        *\"],\n",
    "  [\"**********\"]\n",
    "]`   \n",
    "`# Frame is 10 characters and wide and 3 characters tall.`  \n",
    "\n",
    "`get_frame(2, 5, \"0\") ➞ \"invalid\"`   \n",
    "`# Frame's width is not more than 2.`"
   ]
  },
  {
   "cell_type": "code",
   "execution_count": 3,
   "id": "0bb20063",
   "metadata": {},
   "outputs": [],
   "source": [
    "def get_frame(m, n,sign) :\n",
    "    row = []\n",
    "    frame = []\n",
    "    boxStr = '' \n",
    "    if m <= 2 or n <= 2:\n",
    "        return \"invalid\"\n",
    "    for i in range(1, n+1) :\n",
    "        boxStr = ''\n",
    "        row = []\n",
    "        for j in range(1, m+1) :\n",
    "            if (i == 1 or i == n or\n",
    "                j == 1 or j == m) :\n",
    "                boxStr = boxStr + sign\n",
    "            else :\n",
    "                boxStr = boxStr + ' '\n",
    "        row.append(boxStr)\n",
    "        frame.append(row)\n",
    "    for i in frame:\n",
    "        print(i)\n",
    "    #return frame"
   ]
  },
  {
   "cell_type": "code",
   "execution_count": 6,
   "id": "b2d7c342",
   "metadata": {},
   "outputs": [
    {
     "name": "stdout",
     "output_type": "stream",
     "text": [
      "['####']\n",
      "['#  #']\n",
      "['#  #']\n",
      "['#  #']\n",
      "['####']\n"
     ]
    }
   ],
   "source": [
    "get_frame(4, 5, '#')"
   ]
  },
  {
   "cell_type": "code",
   "execution_count": 4,
   "id": "aea46519",
   "metadata": {},
   "outputs": [
    {
     "name": "stdout",
     "output_type": "stream",
     "text": [
      "['**********']\n",
      "['*        *']\n",
      "['**********']\n"
     ]
    }
   ],
   "source": [
    "get_frame(10, 3, \"*\")"
   ]
  },
  {
   "cell_type": "code",
   "execution_count": 5,
   "id": "d5036ac4",
   "metadata": {},
   "outputs": [
    {
     "data": {
      "text/plain": [
       "'invalid'"
      ]
     },
     "execution_count": 5,
     "metadata": {},
     "output_type": "execute_result"
    }
   ],
   "source": [
    "get_frame(2, 5, \"0\")"
   ]
  },
  {
   "cell_type": "markdown",
   "id": "6fde1a9c",
   "metadata": {},
   "source": [
    "### 2. Write three functions:\n",
    "  1. boolean_and\n",
    "  2. boolean_or\n",
    "  3. boolean_xor\n",
    "  \n",
    "These functions should evaluate a list of True and False values, starting from the leftmost element and evaluating pairwise.\n",
    "**Examples:**    \n",
    "`boolean_and([True, True, False, True]) ➞ False`  \n",
    "`# [True, True, False, True] => [True, False, True] => [False, True] => False`   \n",
    "\n",
    "`boolean_or([True, True, False, False]) ➞ True`   \n",
    "`# [True, True, False, True] => [True, False, False] => [True, False] => True`  \n",
    "\n",
    "`boolean_xor([True, True, False, False]) ➞ False`   \n",
    "`# [True, True, False, False] => [False, False, False] => [False, False] => False`  "
   ]
  },
  {
   "cell_type": "code",
   "execution_count": 7,
   "id": "d9113920",
   "metadata": {},
   "outputs": [],
   "source": [
    "from functools import reduce\n",
    "\n",
    "def boolean_and(items):\n",
    "    status = reduce(lambda a,b: True if (a & b) else False, items)\n",
    "    return status\n",
    "\n",
    "def boolean_or(items):\n",
    "    status = reduce(lambda a,b: True if (a | b) else False, items)\n",
    "    return status\n",
    "\n",
    "def boolean_xor(items):\n",
    "    status = reduce(lambda a,b: True if (a ^ b) else False, items)\n",
    "    return status"
   ]
  },
  {
   "cell_type": "code",
   "execution_count": 8,
   "id": "48ffa058",
   "metadata": {},
   "outputs": [
    {
     "data": {
      "text/plain": [
       "False"
      ]
     },
     "execution_count": 8,
     "metadata": {},
     "output_type": "execute_result"
    }
   ],
   "source": [
    "boolean_and([True, True, False, True])"
   ]
  },
  {
   "cell_type": "code",
   "execution_count": 9,
   "id": "bd59d9b6",
   "metadata": {},
   "outputs": [
    {
     "data": {
      "text/plain": [
       "True"
      ]
     },
     "execution_count": 9,
     "metadata": {},
     "output_type": "execute_result"
    }
   ],
   "source": [
    "boolean_or([True, True, False, False])"
   ]
  },
  {
   "cell_type": "code",
   "execution_count": 10,
   "id": "34847435",
   "metadata": {},
   "outputs": [
    {
     "data": {
      "text/plain": [
       "False"
      ]
     },
     "execution_count": 10,
     "metadata": {},
     "output_type": "execute_result"
    }
   ],
   "source": [
    "boolean_xor([True, True, False, False])"
   ]
  },
  {
   "cell_type": "markdown",
   "id": "8ada2d1f",
   "metadata": {},
   "source": [
    "### 3. Create a function that creates a box based on dimension n.\n",
    "**Examples:**    \n",
    "`make_box(5) ➞ [\n",
    "  \"#####\",\n",
    "  \"#   #\",\n",
    "  \"#   #\",\n",
    "  \"#   #\",\n",
    "  \"#####\"\n",
    "]`\n",
    "\n",
    "`make_box(3) ➞ [\n",
    "  \"###\",\n",
    "  \"# #\",\n",
    "  \"###\"\n",
    "]`\n",
    "\n",
    "`make_box(2) ➞ [\n",
    "  \"##\",\n",
    "  \"##\"\n",
    "]`\n",
    "\n",
    "`make_box(1) ➞ [\n",
    "  \"#\"\n",
    "]`"
   ]
  },
  {
   "cell_type": "code",
   "execution_count": 3,
   "id": "d4ea5966",
   "metadata": {},
   "outputs": [
    {
     "name": "stdout",
     "output_type": "stream",
     "text": [
      "#####\n",
      "#   #\n",
      "#   #\n",
      "#   #\n",
      "#####\n",
      "\n",
      "##\n",
      "##\n",
      "\n",
      "#\n",
      "\n"
     ]
    }
   ],
   "source": [
    "def make_box(in_dimension):\n",
    "    out_list = []\n",
    "    for ele in range(in_dimension):\n",
    "        if ele == 0 or ele == in_dimension-1:\n",
    "            out_list.append('#'*in_dimension)\n",
    "        else:\n",
    "            out_list.append('#'+' '*(in_dimension-2)+'#')\n",
    "    for ele in out_list:\n",
    "        print(ele)\n",
    "    print()\n",
    "    \n",
    "make_box(5)   \n",
    "make_box(2)\n",
    "make_box(1)"
   ]
  },
  {
   "cell_type": "markdown",
   "id": "e417f461",
   "metadata": {},
   "source": [
    "### 4. Given a common phrase, return False if any individual word in the phrase contains duplicate letters. Return True otherwise.\n",
    "**Examples:**    \n",
    "`no_duplicate_letters(\"Fortune favours the bold.\") ➞ True`   \n",
    "`no_duplicate_letters(\"You can lead a horse to water, but you can't make him drink.\") ➞ True`   \n",
    "`no_duplicate_letters(\"Look before you leap.\") ➞ False`   \n",
    "`# Duplicate letters in \"Look\" and \"before\".`   \n",
    "`no_duplicate_letters(\"An apple a day keeps the doctor away.\") ➞ False`  \n",
    "`# Duplicate letters in \"apple\", \"keeps\", \"doctor\", and \"away\".`   "
   ]
  },
  {
   "cell_type": "code",
   "execution_count": 11,
   "id": "312fdab8",
   "metadata": {},
   "outputs": [],
   "source": [
    "def no_duplicate_letters(text):\n",
    "    lst = text.split(' ')\n",
    "    for word in lst:\n",
    "        for i in range(len(word)):\n",
    "            for j in range(i + 1,len(word)):\n",
    "                if(word[i] == word[j]):\n",
    "                    return False;\n",
    "        # If no duplicate characters, return true\n",
    "    return True;"
   ]
  },
  {
   "cell_type": "code",
   "execution_count": 12,
   "id": "5b2e0331",
   "metadata": {},
   "outputs": [
    {
     "data": {
      "text/plain": [
       "True"
      ]
     },
     "execution_count": 12,
     "metadata": {},
     "output_type": "execute_result"
    }
   ],
   "source": [
    "no_duplicate_letters('Fortune favours the bold.')"
   ]
  },
  {
   "cell_type": "code",
   "execution_count": 13,
   "id": "fbc3f572",
   "metadata": {},
   "outputs": [
    {
     "data": {
      "text/plain": [
       "True"
      ]
     },
     "execution_count": 13,
     "metadata": {},
     "output_type": "execute_result"
    }
   ],
   "source": [
    "no_duplicate_letters(\"You can lead a horse to water, but you can't make him drink.\")"
   ]
  },
  {
   "cell_type": "code",
   "execution_count": 14,
   "id": "7bf7ccb3",
   "metadata": {},
   "outputs": [
    {
     "data": {
      "text/plain": [
       "False"
      ]
     },
     "execution_count": 14,
     "metadata": {},
     "output_type": "execute_result"
    }
   ],
   "source": [
    "no_duplicate_letters('Look before you leap.')"
   ]
  },
  {
   "cell_type": "code",
   "execution_count": 15,
   "id": "8ed41eed",
   "metadata": {},
   "outputs": [
    {
     "data": {
      "text/plain": [
       "False"
      ]
     },
     "execution_count": 15,
     "metadata": {},
     "output_type": "execute_result"
    }
   ],
   "source": [
    "no_duplicate_letters('An apple a day keeps the doctor away.')"
   ]
  },
  {
   "cell_type": "markdown",
   "id": "8667486a",
   "metadata": {},
   "source": [
    "### 5. Write a regular expression that will match the states that voted yes to President Trump's impeachment. You must use RegEx positive lookahead.\n",
    "**Examples:**    \n",
    "`txt = \"Texas = no, California = yes, Florida = yes, Michigan = no\"`   \n",
    "`pattern = \"yourregularexpressionhere\"`   \n",
    "`re.findall(pattern, txt) ➞ [\"California\", \"Florida\"]`  "
   ]
  },
  {
   "cell_type": "code",
   "execution_count": 17,
   "id": "bc86e866",
   "metadata": {},
   "outputs": [
    {
     "name": "stdout",
     "output_type": "stream",
     "text": [
      "['California', 'Florida']\n"
     ]
    }
   ],
   "source": [
    "txt = 'Texas = no, California = yes, Florida = yes, Michigan = no'\n",
    "pattern = '#@u+***'\n",
    "import re\n",
    "pattern = r'\\w+(?= = yes)'\n",
    "result = re.findall(pattern, txt) \n",
    "print(result)"
   ]
  }
 ],
 "metadata": {
  "kernelspec": {
   "display_name": "Python 3 (ipykernel)",
   "language": "python",
   "name": "python3"
  },
  "language_info": {
   "codemirror_mode": {
    "name": "ipython",
    "version": 3
   },
   "file_extension": ".py",
   "mimetype": "text/x-python",
   "name": "python",
   "nbconvert_exporter": "python",
   "pygments_lexer": "ipython3",
   "version": "3.9.7"
  }
 },
 "nbformat": 4,
 "nbformat_minor": 5
}
