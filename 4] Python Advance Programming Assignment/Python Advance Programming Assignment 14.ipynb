{
 "cells": [
  {
   "cell_type": "markdown",
   "id": "527cb3ea",
   "metadata": {},
   "source": [
    "# Python Advance Programming Assignment\n",
    "## Assignment - 14 [ FSDS NOV 21 ]"
   ]
  },
  {
   "cell_type": "markdown",
   "id": "ec6d283a",
   "metadata": {},
   "source": [
    "### 1. Given a list of numbers, create a function that removes 25% from every number in the list except the smallest number, and adds the total amount removed to the smallest number.\n",
    "**Examples:**  \n",
    "`show_the_love([4, 1, 4]) ➞ [3, 3, 3]`  \n",
    "`show_the_love([16, 10, 8]) ➞ [12, 7.5, 14.5]`   \n",
    "`show_the_love([2, 100]) ➞ [27, 75]`   "
   ]
  },
  {
   "cell_type": "code",
   "execution_count": 1,
   "id": "5e27268a",
   "metadata": {},
   "outputs": [],
   "source": [
    "def show_the_love(l):\n",
    "    m= min(l)\n",
    "    x= l.index(m)\n",
    "    tf = 0\n",
    "    for i in range(len(l)):\n",
    "        if l[i] != m:\n",
    "            tf=tf+l[i]*0.25\n",
    "            l[i] = l[i]-(l[i]*0.25)\n",
    "    l[x]=l[x]+tf\n",
    "    return(l)"
   ]
  },
  {
   "cell_type": "code",
   "execution_count": 2,
   "id": "6d50e3ee",
   "metadata": {},
   "outputs": [
    {
     "data": {
      "text/plain": [
       "[3.0, 3.0, 3.0]"
      ]
     },
     "execution_count": 2,
     "metadata": {},
     "output_type": "execute_result"
    }
   ],
   "source": [
    "show_the_love([4, 1, 4])"
   ]
  },
  {
   "cell_type": "code",
   "execution_count": 3,
   "id": "4d96f67a",
   "metadata": {},
   "outputs": [
    {
     "data": {
      "text/plain": [
       "[12.0, 7.5, 14.5]"
      ]
     },
     "execution_count": 3,
     "metadata": {},
     "output_type": "execute_result"
    }
   ],
   "source": [
    "show_the_love([16, 10, 8])"
   ]
  },
  {
   "cell_type": "code",
   "execution_count": 4,
   "id": "2055a568",
   "metadata": {},
   "outputs": [
    {
     "data": {
      "text/plain": [
       "[27.0, 75.0]"
      ]
     },
     "execution_count": 4,
     "metadata": {},
     "output_type": "execute_result"
    }
   ],
   "source": [
    "show_the_love([2, 100])"
   ]
  },
  {
   "cell_type": "markdown",
   "id": "7862685a",
   "metadata": {},
   "source": [
    "### 2. Create a function that takes in two words as input and returns a list of three elements, in the following order:\n",
    "\n",
    "   1.Shared letters between two words.\n",
    "   2.Letters unique to word 1.\n",
    "   3.Letters unique to word 2.\n",
    "\n",
    "Each element should have unique letters, and have each letter be alphabetically sorted.\n",
    "\n",
    "**Examples:**  \n",
    "`letters(\"sharp\", \"soap\") ➞ [\"aps\", \"hr\", \"o\"]`  \n",
    "`letters(\"board\", \"bored\") ➞ [\"bdor\", \"a\", \"e\"]`  \n",
    "`letters(\"happiness\", \"envelope\") ➞ [\"enp\", \"ahis\", \"lov\"]`  \n",
    "`letters(\"kerfuffle\", \"fluffy\") ➞ [\"flu\", \"ekr\", \"y\"]`  \n",
    "`# Even with multiple matching letters (e.g. 3 f's), there should`   \n",
    "`# only exist a single \"f\" in your first element.`  \n",
    "`letters(\"match\", \"ham\") ➞ [\"ahm\", \"ct\", \"\"]`  \n",
    "`# \"ham\" does not contain any letters that are not found already`   \n",
    "`# in \"match\".`  "
   ]
  },
  {
   "cell_type": "code",
   "execution_count": 5,
   "id": "22d8358f",
   "metadata": {},
   "outputs": [],
   "source": [
    "def letters(l1,l2):\n",
    "    l1=set(l1)\n",
    "    l2=set(l2)\n",
    "    l3=[]\n",
    "    c=\"\"\n",
    "    for i in l1:\n",
    "        if i in l2:\n",
    "            c += i\n",
    "    c= ''.join(sorted(c))\n",
    "    a= ''.join(sorted(l1.difference(l2)))\n",
    "    b= ''.join(sorted(l2.difference(l1)))\n",
    "    l3.append(c)\n",
    "    l3.append(a)\n",
    "    l3.append(b)\n",
    "    return(l3)"
   ]
  },
  {
   "cell_type": "code",
   "execution_count": 6,
   "id": "323fa5d1",
   "metadata": {},
   "outputs": [
    {
     "data": {
      "text/plain": [
       "['aps', 'hr', 'o']"
      ]
     },
     "execution_count": 6,
     "metadata": {},
     "output_type": "execute_result"
    }
   ],
   "source": [
    "letters(\"sharp\", \"soap\")"
   ]
  },
  {
   "cell_type": "code",
   "execution_count": 7,
   "id": "877b58cc",
   "metadata": {},
   "outputs": [
    {
     "data": {
      "text/plain": [
       "['bdor', 'a', 'e']"
      ]
     },
     "execution_count": 7,
     "metadata": {},
     "output_type": "execute_result"
    }
   ],
   "source": [
    "letters(\"board\", \"bored\")"
   ]
  },
  {
   "cell_type": "code",
   "execution_count": 8,
   "id": "c11ff943",
   "metadata": {},
   "outputs": [
    {
     "data": {
      "text/plain": [
       "['enp', 'ahis', 'lov']"
      ]
     },
     "execution_count": 8,
     "metadata": {},
     "output_type": "execute_result"
    }
   ],
   "source": [
    "letters(\"happiness\", \"envelope\")"
   ]
  },
  {
   "cell_type": "code",
   "execution_count": 9,
   "id": "33bda2c6",
   "metadata": {},
   "outputs": [
    {
     "data": {
      "text/plain": [
       "['flu', 'ekr', 'y']"
      ]
     },
     "execution_count": 9,
     "metadata": {},
     "output_type": "execute_result"
    }
   ],
   "source": [
    "letters(\"kerfuffle\", \"fluffy\")"
   ]
  },
  {
   "cell_type": "code",
   "execution_count": 10,
   "id": "81621907",
   "metadata": {},
   "outputs": [
    {
     "data": {
      "text/plain": [
       "['ahm', 'ct', '']"
      ]
     },
     "execution_count": 10,
     "metadata": {},
     "output_type": "execute_result"
    }
   ],
   "source": [
    "letters(\"match\", \"ham\")"
   ]
  },
  {
   "cell_type": "markdown",
   "id": "e410b887",
   "metadata": {},
   "source": [
    "### 3. Write a function that pairs the first number in an array with the last, the second number with the second to last, etc.\n",
    "**Examples:**  \n",
    "`pairs([1, 2, 3, 4, 5, 6, 7]) ➞ [[1, 7], [2, 6], [3, 5], [4, 4]]`   \n",
    "`pairs([1, 2, 3, 4, 5, 6]) ➞ [[1, 6], [2, 5], [3, 4]]`   \n",
    "`pairs([5, 9, 8, 1, 2]) ➞ [[5, 2], [9, 1], [8, 8]]`   \n",
    "`pairs([]) ➞ []`"
   ]
  },
  {
   "cell_type": "code",
   "execution_count": 11,
   "id": "bc563dee",
   "metadata": {},
   "outputs": [],
   "source": [
    "def pairs(l):\n",
    "    r = l[::-1]\n",
    "    a=[]\n",
    "    n=[]\n",
    "    i = 0\n",
    "    if len(l) %2 == 0:\n",
    "        length = int(len(l)/2)\n",
    "    else:\n",
    "        length = int(len(l)/2) +1\n",
    "    while length:\n",
    "        a.append(l[i])\n",
    "        a.append(r[i])\n",
    "        length = length -1\n",
    "        i = i+1\n",
    "    i=0\n",
    "    while i<len(a):\n",
    "        n.append(a[i:i+2])\n",
    "        i+=2\n",
    "    return n"
   ]
  },
  {
   "cell_type": "code",
   "execution_count": 12,
   "id": "73206017",
   "metadata": {},
   "outputs": [
    {
     "data": {
      "text/plain": [
       "[[1, 7], [2, 6], [3, 5], [4, 4]]"
      ]
     },
     "execution_count": 12,
     "metadata": {},
     "output_type": "execute_result"
    }
   ],
   "source": [
    "pairs([1, 2, 3, 4, 5, 6, 7])"
   ]
  },
  {
   "cell_type": "code",
   "execution_count": 13,
   "id": "11278269",
   "metadata": {},
   "outputs": [
    {
     "data": {
      "text/plain": [
       "[[1, 6], [2, 5], [3, 4]]"
      ]
     },
     "execution_count": 13,
     "metadata": {},
     "output_type": "execute_result"
    }
   ],
   "source": [
    "pairs([1, 2, 3, 4, 5, 6])"
   ]
  },
  {
   "cell_type": "code",
   "execution_count": 14,
   "id": "26e121c9",
   "metadata": {},
   "outputs": [
    {
     "data": {
      "text/plain": [
       "[[5, 2], [9, 1], [8, 8]]"
      ]
     },
     "execution_count": 14,
     "metadata": {},
     "output_type": "execute_result"
    }
   ],
   "source": [
    "pairs([5, 9, 8, 1, 2])"
   ]
  },
  {
   "cell_type": "code",
   "execution_count": 15,
   "id": "77bbb2b7",
   "metadata": {},
   "outputs": [
    {
     "data": {
      "text/plain": [
       "[]"
      ]
     },
     "execution_count": 15,
     "metadata": {},
     "output_type": "execute_result"
    }
   ],
   "source": [
    "pairs([])"
   ]
  },
  {
   "cell_type": "markdown",
   "id": "6e9d2e61",
   "metadata": {},
   "source": [
    "### 4. Write a function that adds two numbers. The catch, however, is that the numbers will be strings.\n",
    "\n",
    "**Examples:**  \n",
    "`add_str_nums(\"4\", \"5\") ➞ \"9\"`     \n",
    "`add_str_nums(\"abcdefg\", \"3\") ➞ \"-1\"`  \n",
    "`add_str_nums(\"1\", \"\") ➞ \"1\"`   \n",
    "`add_str_nums(\"1874682736267235927359283579235789257\", \"32652983572985729\") ➞ \"1874682736267235927391936562808774986\"`"
   ]
  },
  {
   "cell_type": "code",
   "execution_count": 16,
   "id": "0025c58b",
   "metadata": {},
   "outputs": [],
   "source": [
    "def add_str_nums(a,b):\n",
    "        \n",
    "    if not a:\n",
    "        a=\"0\"\n",
    "    if not b:\n",
    "        b=\"0\"\n",
    "    try:  \n",
    "        return str(int(a)+int(b))\n",
    "    except:\n",
    "        return \"-1\""
   ]
  },
  {
   "cell_type": "code",
   "execution_count": 17,
   "id": "b8633d5e",
   "metadata": {},
   "outputs": [
    {
     "data": {
      "text/plain": [
       "'9'"
      ]
     },
     "execution_count": 17,
     "metadata": {},
     "output_type": "execute_result"
    }
   ],
   "source": [
    "add_str_nums(\"4\", \"5\")"
   ]
  },
  {
   "cell_type": "code",
   "execution_count": 18,
   "id": "e5de7784",
   "metadata": {},
   "outputs": [
    {
     "data": {
      "text/plain": [
       "'-1'"
      ]
     },
     "execution_count": 18,
     "metadata": {},
     "output_type": "execute_result"
    }
   ],
   "source": [
    "add_str_nums(\"abcdefg\", \"3\")"
   ]
  },
  {
   "cell_type": "code",
   "execution_count": 19,
   "id": "25136186",
   "metadata": {},
   "outputs": [
    {
     "data": {
      "text/plain": [
       "'1'"
      ]
     },
     "execution_count": 19,
     "metadata": {},
     "output_type": "execute_result"
    }
   ],
   "source": [
    "add_str_nums(\"1\", \"\")"
   ]
  },
  {
   "cell_type": "code",
   "execution_count": 20,
   "id": "60fc9244",
   "metadata": {},
   "outputs": [
    {
     "data": {
      "text/plain": [
       "'1874682736267235927391936562808774986'"
      ]
     },
     "execution_count": 20,
     "metadata": {},
     "output_type": "execute_result"
    }
   ],
   "source": [
    "add_str_nums(\"1874682736267235927359283579235789257\", \"32652983572985729\")"
   ]
  },
  {
   "cell_type": "markdown",
   "id": "b29281f5",
   "metadata": {},
   "source": [
    "### 5. lPaeesh le pemu mnxit ehess rtnisg! Oh, sorry, that was supposed to say: Please help me unmix these strings!\n",
    "\n",
    "Somehow my strings have all become mixed up; every pair of characters has been swapped. Help me undo this so I can understand my strings again.\n",
    "\n",
    "**Examples:**  \n",
    "`unmix(\"123456\") ➞ \"214365\"`   \n",
    "`unmix(\"hTsii  s aimex dpus rtni.g\") ➞ \"This is a mixed up string.\"`  \n",
    "`unmix(\"badce\") ➞ \"abcde\"`   "
   ]
  },
  {
   "cell_type": "code",
   "execution_count": 21,
   "id": "0117f776",
   "metadata": {},
   "outputs": [],
   "source": [
    "def unmix(s):\n",
    "    s=''.join([ s[x:x+2][::-1] for x in range(0, len(s), 2) ])\n",
    "    return s"
   ]
  },
  {
   "cell_type": "code",
   "execution_count": 22,
   "id": "7f8a5ccf",
   "metadata": {},
   "outputs": [
    {
     "data": {
      "text/plain": [
       "'214365'"
      ]
     },
     "execution_count": 22,
     "metadata": {},
     "output_type": "execute_result"
    }
   ],
   "source": [
    "unmix(\"123456\")"
   ]
  },
  {
   "cell_type": "code",
   "execution_count": 23,
   "id": "03f21170",
   "metadata": {},
   "outputs": [
    {
     "data": {
      "text/plain": [
       "'This is a mixed up string.'"
      ]
     },
     "execution_count": 23,
     "metadata": {},
     "output_type": "execute_result"
    }
   ],
   "source": [
    "unmix(\"hTsii  s aimex dpus rtni.g\")"
   ]
  },
  {
   "cell_type": "code",
   "execution_count": 24,
   "id": "57c3ab88",
   "metadata": {},
   "outputs": [
    {
     "data": {
      "text/plain": [
       "'abcde'"
      ]
     },
     "execution_count": 24,
     "metadata": {},
     "output_type": "execute_result"
    }
   ],
   "source": [
    "unmix(\"badce\")"
   ]
  }
 ],
 "metadata": {
  "kernelspec": {
   "display_name": "Python 3 (ipykernel)",
   "language": "python",
   "name": "python3"
  },
  "language_info": {
   "codemirror_mode": {
    "name": "ipython",
    "version": 3
   },
   "file_extension": ".py",
   "mimetype": "text/x-python",
   "name": "python",
   "nbconvert_exporter": "python",
   "pygments_lexer": "ipython3",
   "version": "3.9.7"
  }
 },
 "nbformat": 4,
 "nbformat_minor": 5
}
